{
 "cells": [
  {
   "cell_type": "code",
   "execution_count": 25,
   "id": "c41ff60b",
   "metadata": {},
   "outputs": [],
   "source": [
    "import numpy as np\n",
    "class NN:\n",
    "    def __init__(self):\n",
    "        self.w1=np.random.randn(4,4)\n",
    "        self.b1=np.zeros((1,4))\n",
    "        self.w2=np.random.randn(4,1)\n",
    "        self.b2=np.zeros((1,1))\n",
    "    def sigmoid(self,z):\n",
    "        return 1/(1+np.exp(-z))\n",
    "    def sigmoid_derivate(self,x):\n",
    "        return x*(1-x)\n",
    "    def forward_prop(self,x):\n",
    "        self.z1=np.dot(x,self.w1)+self.b1\n",
    "        self.a1=self.sigmoid(self.z1)\n",
    "        self.z2=np.dot(self.a1,self.w2)+self.b2\n",
    "        self.a2=self.sigmoid(self.z2)\n",
    "        return self.a2\n",
    "    def back_prop(self,x,y,lr=0.1):\n",
    "        \n",
    "        m=x.shape[0]\n",
    "        \n",
    "        dz2=self.a2-y\n",
    "        dw2=(1/m)*np.dot(self.a1.T,dz2)\n",
    "        db2=(1/m)*np.sum(dz2,axis=0,keepdims=True)\n",
    "        \n",
    "        dz1=np.dot(dz2,self.w2.T)*self.sigmoid_derivate(self.a1)\n",
    "        dw1=(1/m)*np.dot(x.T,dz1)\n",
    "        db1=(1/m)*np.sum(dz1,axis=0,keepdims=True)\n",
    "        \n",
    "        self.w1-=lr*dw1\n",
    "        self.b1-=lr*db1\n",
    "        self.w2-=lr*dw2\n",
    "        self.b2-=lr*db2\n",
    "        "
   ]
  },
  {
   "cell_type": "code",
   "execution_count": 26,
   "id": "590cd590",
   "metadata": {},
   "outputs": [
    {
     "name": "stdout",
     "output_type": "stream",
     "text": [
      "Epoch 0, Loss: 0.2162\n",
      "Epoch 100, Loss: 0.1170\n",
      "Epoch 200, Loss: 0.0541\n",
      "Epoch 300, Loss: 0.0245\n",
      "Epoch 400, Loss: 0.0120\n",
      "Epoch 500, Loss: 0.0066\n",
      "Epoch 600, Loss: 0.0039\n",
      "Epoch 700, Loss: 0.0026\n",
      "Epoch 800, Loss: 0.0018\n",
      "Epoch 900, Loss: 0.0013\n"
     ]
    }
   ],
   "source": [
    "x=np.asarray([[0,0,0,0],[0,0,0,1],[0,0,1,0],[0,0,1,1],[0,1,0,0],[0,1,0,1],[0,1,1,0],[0,1,1,1],[1,0,0,0],[1,0,0,1],[1,0,1,0]])\n",
    "y=np.asarray([[0],[1],[0],[1],[0],[1],[0],[1],[0],[1],[0]])\n",
    "nn=NN()\n",
    "for i in range(1000):\n",
    "    a=nn.forward_prop(x)\n",
    "    nn.back_prop(x,y)\n",
    "    if i % 100 == 0:\n",
    "        loss = np.mean((y - a)**2)\n",
    "        print(f\"Epoch {i}, Loss: {loss:.4f}\")\n",
    "pred=nn.forward_prop(x)"
   ]
  },
  {
   "cell_type": "code",
   "execution_count": 27,
   "id": "a21d3f4b",
   "metadata": {},
   "outputs": [
    {
     "name": "stdout",
     "output_type": "stream",
     "text": [
      "input \t output 'y' \t prediction 'y-hat'\n",
      "[0 0 0 0]  \t     0 \t\t    0\n",
      "[0 0 0 1]  \t     1 \t\t    1\n",
      "[0 0 1 0]  \t     0 \t\t    0\n",
      "[0 0 1 1]  \t     1 \t\t    1\n",
      "[0 1 0 0]  \t     0 \t\t    0\n",
      "[0 1 0 1]  \t     1 \t\t    1\n",
      "[0 1 1 0]  \t     0 \t\t    0\n",
      "[0 1 1 1]  \t     1 \t\t    1\n",
      "[1 0 0 0]  \t     0 \t\t    0\n",
      "[1 0 0 1]  \t     1 \t\t    1\n",
      "[1 0 1 0]  \t     0 \t\t    0\n"
     ]
    }
   ],
   "source": [
    "print(\"input \\t output 'y' \\t prediction 'y-hat'\")\n",
    "for i in range(pred.shape[0]):\n",
    "    print(x[i],\" \\t    \",y[i][0],\"\\t\\t   \",round(pred[i][0]))"
   ]
  },
  {
   "cell_type": "code",
   "execution_count": 30,
   "id": "351f76e2",
   "metadata": {},
   "outputs": [
    {
     "data": {
      "text/plain": [
       "array([[0.02222383]])"
      ]
     },
     "execution_count": 30,
     "metadata": {},
     "output_type": "execute_result"
    }
   ],
   "source": [
    "nn.forward_prop([[1,1,0,0]]) #12"
   ]
  },
  {
   "cell_type": "code",
   "execution_count": 31,
   "id": "1a55a0c7",
   "metadata": {},
   "outputs": [
    {
     "data": {
      "text/plain": [
       "array([[0.9598149]])"
      ]
     },
     "execution_count": 31,
     "metadata": {},
     "output_type": "execute_result"
    }
   ],
   "source": [
    "nn.forward_prop([[1,1,0,1]]) #13"
   ]
  },
  {
   "cell_type": "code",
   "execution_count": null,
   "id": "47ccd7a2",
   "metadata": {},
   "outputs": [],
   "source": []
  }
 ],
 "metadata": {
  "kernelspec": {
   "display_name": "Python 3 (ipykernel)",
   "language": "python",
   "name": "python3"
  },
  "language_info": {
   "codemirror_mode": {
    "name": "ipython",
    "version": 3
   },
   "file_extension": ".py",
   "mimetype": "text/x-python",
   "name": "python",
   "nbconvert_exporter": "python",
   "pygments_lexer": "ipython3",
   "version": "3.11.9"
  }
 },
 "nbformat": 4,
 "nbformat_minor": 5
}
